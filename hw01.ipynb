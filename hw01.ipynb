{
 "cells": [
  {
   "cell_type": "markdown",
   "id": "120374d0",
   "metadata": {},
   "source": [
    "# Homework 1"
   ]
  },
  {
   "cell_type": "markdown",
   "id": "b0130ce5",
   "metadata": {},
   "source": [
    "## Imports and Utilities\n",
    "**Note**: these imports and functions are available in catsoop. You do not need to copy them in."
   ]
  },
  {
   "cell_type": "code",
   "execution_count": null,
   "id": "35e8b8c2",
   "metadata": {},
   "outputs": [],
   "source": [
    "import numpy as np\n",
    "\n"
   ]
  },
  {
   "cell_type": "markdown",
   "id": "82c4039c",
   "metadata": {},
   "source": [
    "## Problems"
   ]
  },
  {
   "cell_type": "markdown",
   "id": "ac285b1c",
   "metadata": {},
   "source": [
    "### Creating arrays\n",
    "Complete this function that returns a $2 \times 3$ `numpy` array ($2$ rows by $3$ columns), containing any values you wish.\n",
    "\n",
    "For reference, our solution is **1** lines of code."
   ]
  },
  {
   "cell_type": "code",
   "execution_count": null,
   "id": "46f5601b",
   "metadata": {},
   "outputs": [],
   "source": [
    "def create_array():\n",
    "    raise NotImplementedError(\"Implement me!\")"
   ]
  },
  {
   "cell_type": "markdown",
   "id": "33577857",
   "metadata": {},
   "source": [
    "Tests"
   ]
  },
  {
   "cell_type": "code",
   "execution_count": null,
   "id": "d7acbac4",
   "metadata": {},
   "outputs": [],
   "source": [
    "def create_array_test():\n",
    "    value = create_array()\n",
    "    assert value.shape == (2, 3)\n",
    "\n",
    "create_array_test()\n",
    "print('Tests passed.')"
   ]
  }
 ],
 "metadata": {
  "colab": {
   "collapsed_sections": [],
   "name": "hw01.ipynb",
   "provenance": []
  },
  "kernelspec": {
   "display_name": "Python 3",
   "name": "python3"
  },
  "language_info": {
   "name": "python"
  }
 },
 "nbformat": 4,
 "nbformat_minor": 5
}
