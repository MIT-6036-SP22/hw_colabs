{
 "cells": [
  {
   "cell_type": "markdown",
   "id": "643a93a5",
   "metadata": {},
   "source": [
    "# Homework 1"
   ]
  },
  {
   "cell_type": "markdown",
   "id": "559a9cd3",
   "metadata": {},
   "source": [
    "**If you haven't already, please hit :**\n",
    "\n",
    "`File` -> `Save a Copy in Drive`\n",
    "\n",
    "**to copy this notebook to your Google drive, and work on a copy. If you don't do this, your changes won't be saved!**\n"
   ]
  },
  {
   "cell_type": "markdown",
   "id": "f6f0309d",
   "metadata": {},
   "source": [
    "## Imports and Utilities\n",
    "**Note**: these imports and functions are available in catsoop. You do not need to copy them in."
   ]
  },
  {
   "cell_type": "code",
   "execution_count": null,
   "id": "31f33b04",
   "metadata": {},
   "outputs": [],
   "source": [
    "import numpy as np\n",
    "\n"
   ]
  },
  {
   "cell_type": "markdown",
   "id": "2a812634",
   "metadata": {},
   "source": [
    "## Problems"
   ]
  },
  {
   "cell_type": "markdown",
   "id": "f07003a4",
   "metadata": {},
   "source": [
    "### Creating arrays\n",
    "Complete this function that returns a $2 \\times 3$ `numpy` array ($2$ rows by $3$ columns), containing any values you wish.\n",
    "\n",
    "For reference, our solution is **1** lines of code."
   ]
  },
  {
   "cell_type": "code",
   "execution_count": null,
   "id": "10586679",
   "metadata": {},
   "outputs": [],
   "source": [
    "def create_array():\n",
    "    raise NotImplementedError(\"Implement me!\")"
   ]
  },
  {
   "cell_type": "markdown",
   "id": "6d5a9622",
   "metadata": {},
   "source": [
    "Tests"
   ]
  },
  {
   "cell_type": "code",
   "execution_count": null,
   "id": "2f183b38",
   "metadata": {},
   "outputs": [],
   "source": [
    "def create_array_test():\n",
    "    value = create_array()\n",
    "    assert value.shape == (2, 3)\n",
    "\n",
    "create_array_test()\n",
    "print('Tests passed.')"
   ]
  }
 ],
 "metadata": {
  "colab": {
   "collapsed_sections": [],
   "name": "hw01.ipynb",
   "provenance": []
  },
  "kernelspec": {
   "display_name": "Python 3",
   "name": "python3"
  },
  "language_info": {
   "name": "python"
  }
 },
 "nbformat": 4,
 "nbformat_minor": 5
}
